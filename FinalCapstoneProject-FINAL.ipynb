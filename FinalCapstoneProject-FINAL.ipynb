{
 "cells": [
  {
   "cell_type": "markdown",
   "metadata": {},
   "source": [
    "# Final Capstone Project"
   ]
  },
  {
   "cell_type": "markdown",
   "metadata": {},
   "source": [
    "### Introduction"
   ]
  },
  {
   "cell_type": "markdown",
   "metadata": {},
   "source": [
    "The region of Flanders, Belgium, is one of the most densily populated region in Western Europe and also an economic hub, enjoying its citizens a high level of GDP per capita. In this exercise, we want to compare the neighborhoods across 3 different cities in order to understand the similarities among them so we can chose where we could potentially chose which city to move into and into which neighborhood.\n",
    "\n",
    "The three cities are:\n",
    "- Antwerpen, the capital of the region. It is the largest of the three and host the second biggest harbour in Europe\n",
    "- Leuven, second biggest city of the region and cultural hub\n",
    "- Genk, smaller provincial city, much smaller in terms of population"
   ]
  },
  {
   "cell_type": "markdown",
   "metadata": {},
   "source": [
    "### Data"
   ]
  },
  {
   "cell_type": "markdown",
   "metadata": {},
   "source": [
    "Two different data sets were used, both from the official Belgium Statistics Open Data repository (https://statbel.fgov.be/en/open-data?category=All)\n",
    "- Statistical sectors 2020 https://statbel.fgov.be/en/open-data/statistical-sectors-2020 --> This is the minimum administrative sub-division \n",
    "- Population by statistical sector 2020 https://statbel.fgov.be/en/open-data/population-statistical-sector-8\n",
    "\n",
    "At the start of this exercise, it is unclear if Population by statistical sector will be needed nevertheless it was decided to include it.\n",
    "\n",
    "The data was prepared in QGIS and Excel as follows:\n",
    "1. Change coordinate system to geographical coordinate system WGS 84 EPSG:4326, so the coordinates will come in decimal degrees, by means of Saving Layer As with different coordinate system\n",
    "2. In Excel, save Population by statistical sector 2020 in CSV\n",
    "3. Join attribute tables of imported CSV with those of the Statistical Sectors\n",
    "4. Calculate centroids of Statistical Sectors, so we get points instead of polygons\n",
    "6. Calculate geometry attributes of centroids\n",
    "7. Create different data sets by cities of interest (Antwerpen, Leuven, Genk)\n",
    "\n",
    "For the clustering, Foursquare API will be used to extract the venues in the neighborhoods.\n",
    "\n",
    "For visualization purposes, OpenStreetMaps data is used fo\n",
    "\n",
    "Pre-processing of data will be done in this notebook and therefore will be explained in the methodology section."
   ]
  },
  {
   "cell_type": "markdown",
   "metadata": {},
   "source": [
    "### Methodology\n",
    "section which represents the main component of the report where you discuss and describe any exploratory data analysis that you did, any inferential statistical testing that you performed, if any, and what machine learnings were used and why."
   ]
  }
 ],
 "metadata": {
  "kernelspec": {
   "display_name": "Python 3",
   "language": "python",
   "name": "python3"
  },
  "language_info": {
   "codemirror_mode": {
    "name": "ipython",
    "version": 3
   },
   "file_extension": ".py",
   "mimetype": "text/x-python",
   "name": "python",
   "nbconvert_exporter": "python",
   "pygments_lexer": "ipython3",
   "version": "3.8.5"
  }
 },
 "nbformat": 4,
 "nbformat_minor": 4
}
